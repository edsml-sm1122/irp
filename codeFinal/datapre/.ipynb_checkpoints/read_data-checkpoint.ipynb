{
 "cells": [
  {
   "cell_type": "code",
   "execution_count": 1,
   "id": "ce094e26",
   "metadata": {
    "ExecuteTime": {
     "end_time": "2023-08-16T13:56:55.781129Z",
     "start_time": "2023-08-16T13:56:55.778331Z"
    }
   },
   "outputs": [],
   "source": [
    "# import pandas as pd\n",
    "import os as os\n",
    "import numpy as np"
   ]
  },
  {
   "cell_type": "code",
   "execution_count": 2,
   "id": "0b635e54",
   "metadata": {
    "ExecuteTime": {
     "end_time": "2023-08-16T13:56:57.714990Z",
     "start_time": "2023-08-16T13:56:56.478392Z"
    }
   },
   "outputs": [],
   "source": [
    "from data_functions import checkdim,read_save,track_order"
   ]
  },
  {
   "cell_type": "code",
   "execution_count": 3,
   "id": "210f7555",
   "metadata": {
    "ExecuteTime": {
     "end_time": "2023-08-16T13:46:24.274811Z",
     "start_time": "2023-08-16T13:45:19.382919Z"
    },
    "scrolled": false
   },
   "outputs": [
    {
     "name": "stdout",
     "output_type": "stream",
     "text": [
      "Coastline0p01 \n",
      "\n",
      "Error: Not all .csv files have the same shape.\n",
      "File ../../data/20230608/TimeSeries_Data_20230607/TimeSeries_FLSEast_20220530_LulcHECRASv2_M50osM40is_fixedHDinput0407_CA_FLSfixedBC15_MWD_Coastline0p01/2897_TS.csv has a different shape: (94, 145)\n",
      "File ../../data/20230608/TimeSeries_Data_20230607/TimeSeries_FLSEast_20220530_LulcHECRASv2_M50osM40is_fixedHDinput0407_CA_FLSfixedBC15_MWD_Coastline0p01/5379_TS.csv has a different shape: (58, 145)\n",
      "File ../../data/20230608/TimeSeries_Data_20230607/TimeSeries_FLSEast_20220530_LulcHECRASv2_M50osM40is_fixedHDinput0407_CA_FLSfixedBC15_MWD_Coastline0p01/6109_TS.csv has a different shape: (50, 145)\n",
      "File ../../data/20230608/TimeSeries_Data_20230607/TimeSeries_FLSEast_20220530_LulcHECRASv2_M50osM40is_fixedHDinput0407_CA_FLSfixedBC15_SWH_Coastline0p01/2897_TS.csv has a different shape: (94, 145)\n",
      "File ../../data/20230608/TimeSeries_Data_20230607/TimeSeries_FLSEast_20220530_LulcHECRASv2_M50osM40is_fixedHDinput0407_CA_FLSfixedBC15_SWH_Coastline0p01/5379_TS.csv has a different shape: (58, 145)\n",
      "File ../../data/20230608/TimeSeries_Data_20230607/TimeSeries_FLSEast_20220530_LulcHECRASv2_M50osM40is_fixedHDinput0407_CA_FLSfixedBC15_SWH_Coastline0p01/6109_TS.csv has a different shape: (50, 145)\n",
      "File ../../data/20230608/TimeSeries_Data_20230607/TimeSeries_FLSEast_20220530_LulcHECRASv2_M50osM40is_fixedHDinput0407_CA_FLSfixedBC15_WiS_Coastline0p01/2897_TS.csv has a different shape: (94, 145)\n",
      "File ../../data/20230608/TimeSeries_Data_20230607/TimeSeries_FLSEast_20220530_LulcHECRASv2_M50osM40is_fixedHDinput0407_CA_FLSfixedBC15_WiS_Coastline0p01/5379_TS.csv has a different shape: (58, 145)\n",
      "File ../../data/20230608/TimeSeries_Data_20230607/TimeSeries_FLSEast_20220530_LulcHECRASv2_M50osM40is_fixedHDinput0407_CA_FLSfixedBC15_WiS_Coastline0p01/6109_TS.csv has a different shape: (50, 145)\n",
      "File ../../data/20230608/TimeSeries_Data_20230607/TimeSeries_FLSEast_20220530_LulcHECRASv2_M50osM40is_fixedHDinput0407_CA_FLSfixedBC15_WiD_Coastline0p01/2897_TS.csv has a different shape: (94, 145)\n",
      "File ../../data/20230608/TimeSeries_Data_20230607/TimeSeries_FLSEast_20220530_LulcHECRASv2_M50osM40is_fixedHDinput0407_CA_FLSfixedBC15_WiD_Coastline0p01/5379_TS.csv has a different shape: (58, 145)\n",
      "File ../../data/20230608/TimeSeries_Data_20230607/TimeSeries_FLSEast_20220530_LulcHECRASv2_M50osM40is_fixedHDinput0407_CA_FLSfixedBC15_WiD_Coastline0p01/6109_TS.csv has a different shape: (50, 145)\n",
      "File ../../data/20230608/TimeSeries_Data_20230607/TimeSeries_FLSEast_20220530_LulcHECRASv2_M50osM40is_fixedHDinput0407_CA_FLSfixedBC15_TWD_Coastline0p01/2897_TS.csv has a different shape: (94, 145)\n",
      "File ../../data/20230608/TimeSeries_Data_20230607/TimeSeries_FLSEast_20220530_LulcHECRASv2_M50osM40is_fixedHDinput0407_CA_FLSfixedBC15_TWD_Coastline0p01/5379_TS.csv has a different shape: (58, 145)\n",
      "File ../../data/20230608/TimeSeries_Data_20230607/TimeSeries_FLSEast_20220530_LulcHECRASv2_M50osM40is_fixedHDinput0407_CA_FLSfixedBC15_TWD_Coastline0p01/6109_TS.csv has a different shape: (50, 145)\n",
      "File ../../data/20230608/TimeSeries_Data_20230607/TimeSeries_FLSEast_20220530_LulcHECRASv2_M50osM40is_fixedHDinput0407_CA_FLSfixedBC15_PWP_Coastline0p01/2897_TS.csv has a different shape: (94, 145)\n",
      "File ../../data/20230608/TimeSeries_Data_20230607/TimeSeries_FLSEast_20220530_LulcHECRASv2_M50osM40is_fixedHDinput0407_CA_FLSfixedBC15_PWP_Coastline0p01/5379_TS.csv has a different shape: (58, 145)\n",
      "File ../../data/20230608/TimeSeries_Data_20230607/TimeSeries_FLSEast_20220530_LulcHECRASv2_M50osM40is_fixedHDinput0407_CA_FLSfixedBC15_PWP_Coastline0p01/6109_TS.csv has a different shape: (50, 145)\n",
      "Shape (50, 145): 6 files\n",
      "Shape (94, 145): 6 files\n",
      "Shape (98, 145): 1110 files\n",
      "Shape (58, 145): 6 files\n",
      "--------------------\n",
      "the code read track file in the same order (ascending track number) which is \n",
      "\n",
      "['472_TS.csv', '502_TS.csv', '698_TS.csv', '797_TS.csv', '852_TS.csv', '1122_TS.csv', '1211_TS.csv', '1216_TS.csv', '1264_TS.csv', '1268_TS.csv', '1294_TS.csv', '1371_TS.csv', '1390_TS.csv', '1397_TS.csv', '1426_TS.csv', '1445_TS.csv', '1466_TS.csv', '1469_TS.csv', '1487_TS.csv', '1488_TS.csv', '1558_TS.csv', '1663_TS.csv', '1666_TS.csv', '1714_TS.csv', '1717_TS.csv', '1756_TS.csv', '1767_TS.csv', '1841_TS.csv', '1889_TS.csv', '1902_TS.csv', '2009_TS.csv', '2022_TS.csv', '2133_TS.csv', '2163_TS.csv', '2171_TS.csv', '2276_TS.csv', '2317_TS.csv', '2352_TS.csv', '2374_TS.csv', '2399_TS.csv', '2570_TS.csv', '2623_TS.csv', '2637_TS.csv', '2809_TS.csv', '2854_TS.csv', '2897_TS.csv', '3047_TS.csv', '3231_TS.csv', '3257_TS.csv', '3439_TS.csv', '3453_TS.csv', '3503_TS.csv', '3532_TS.csv', '3570_TS.csv', '3581_TS.csv', '3640_TS.csv', '3737_TS.csv', '3799_TS.csv', '3872_TS.csv', '4046_TS.csv', '4047_TS.csv', '4142_TS.csv', '4184_TS.csv', '4556_TS.csv', '4593_TS.csv', '4647_TS.csv', '4688_TS.csv', '4701_TS.csv', '4778_TS.csv', '4845_TS.csv', '4936_TS.csv', '4960_TS.csv', '4966_TS.csv', '5081_TS.csv', '5207_TS.csv', '5256_TS.csv', '5378_TS.csv', '5379_TS.csv', '5383_TS.csv', '5434_TS.csv', '5550_TS.csv', '5791_TS.csv', '6022_TS.csv', '6109_TS.csv', '6369_TS.csv', '6420_TS.csv', '6557_TS.csv', '6641_TS.csv', '6669_TS.csv', '7066_TS.csv', '7174_TS.csv', '7189_TS.csv', '7222_TS.csv', '7274_TS.csv', '7459_TS.csv', '7610_TS.csv', '7779_TS.csv', '7979_TS.csv', '8005_TS.csv', '8068_TS.csv', '8147_TS.csv', '8253_TS.csv', '8254_TS.csv', '8359_TS.csv', '8365_TS.csv', '8405_TS.csv', '8640_TS.csv', '8647_TS.csv', '8870_TS.csv', '8948_TS.csv', '8976_TS.csv', '9660_TS.csv', '9779_TS.csv', '9841_TS.csv', '10085_TS.csv', '10086_TS.csv', '10096_TS.csv', '10101_TS.csv', '10468_TS.csv', '10920_TS.csv', '11119_TS.csv', '11133_TS.csv', '11363_TS.csv', '11728_TS.csv', '12309_TS.csv', '12310_TS.csv', '12382_TS.csv', '12389_TS.csv', '12704_TS.csv', '12722_TS.csv', '13201_TS.csv', '13260_TS.csv', '13391_TS.csv', '13503_TS.csv', '13559_TS.csv', '13808_TS.csv', '13839_TS.csv', '13879_TS.csv', '13936_TS.csv', '13991_TS.csv', '14083_TS.csv', '14175_TS.csv', '14200_TS.csv', '14262_TS.csv', '14367_TS.csv', '14822_TS.csv', '15246_TS.csv', '15445_TS.csv', '15506_TS.csv', '15560_TS.csv', '15678_TS.csv', '15719_TS.csv', '15748_TS.csv', '16288_TS.csv', '16330_TS.csv', '16332_TS.csv', '16370_TS.csv', '16412_TS.csv', '16486_TS.csv', '16544_TS.csv', '16592_TS.csv', '16613_TS.csv', '16763_TS.csv', '16852_TS.csv', '16914_TS.csv', '17033_TS.csv', '17424_TS.csv', '17852_TS.csv', '18049_TS.csv', '18122_TS.csv', '18713_TS.csv', '18835_TS.csv', '18872_TS.csv', '19270_TS.csv', '19296_TS.csv', '19318_TS.csv', '19322_TS.csv', '19390_TS.csv', '19457_TS.csv', '19464_TS.csv', '19498_TS.csv', '19589_TS.csv', '19750_TS.csv', '19924_TS.csv', '19954_TS.csv', '20020_TS.csv', '20054_TS.csv', '20601_TS.csv']\n",
      "DepthContour50m \n",
      "\n",
      "Error: Not all .csv files have the same shape.\n",
      "File ../../data/20230608/TimeSeries_Data_20230607/TimeSeries_FLSEast_20220530_LulcHECRASv2_M50osM40is_fixedHDinput0407_CA_FLSfixedBC15_SWH_DepthContour50m/2897_TS.csv has a different shape: (94, 155)\n",
      "File ../../data/20230608/TimeSeries_Data_20230607/TimeSeries_FLSEast_20220530_LulcHECRASv2_M50osM40is_fixedHDinput0407_CA_FLSfixedBC15_SWH_DepthContour50m/5379_TS.csv has a different shape: (58, 155)\n",
      "File ../../data/20230608/TimeSeries_Data_20230607/TimeSeries_FLSEast_20220530_LulcHECRASv2_M50osM40is_fixedHDinput0407_CA_FLSfixedBC15_SWH_DepthContour50m/6109_TS.csv has a different shape: (50, 155)\n",
      "File ../../data/20230608/TimeSeries_Data_20230607/TimeSeries_FLSEast_20220530_LulcHECRASv2_M50osM40is_fixedHDinput0407_CA_FLSfixedBC15_WiS_DepthContour50m/2897_TS.csv has a different shape: (94, 155)\n",
      "File ../../data/20230608/TimeSeries_Data_20230607/TimeSeries_FLSEast_20220530_LulcHECRASv2_M50osM40is_fixedHDinput0407_CA_FLSfixedBC15_WiS_DepthContour50m/5379_TS.csv has a different shape: (58, 155)\n",
      "File ../../data/20230608/TimeSeries_Data_20230607/TimeSeries_FLSEast_20220530_LulcHECRASv2_M50osM40is_fixedHDinput0407_CA_FLSfixedBC15_WiS_DepthContour50m/6109_TS.csv has a different shape: (50, 155)\n",
      "File ../../data/20230608/TimeSeries_Data_20230607/TimeSeries_FLSEast_20220530_LulcHECRASv2_M50osM40is_fixedHDinput0407_CA_FLSfixedBC15_MWD_DepthContour50m/2897_TS.csv has a different shape: (94, 155)\n",
      "File ../../data/20230608/TimeSeries_Data_20230607/TimeSeries_FLSEast_20220530_LulcHECRASv2_M50osM40is_fixedHDinput0407_CA_FLSfixedBC15_MWD_DepthContour50m/5379_TS.csv has a different shape: (58, 155)\n",
      "File ../../data/20230608/TimeSeries_Data_20230607/TimeSeries_FLSEast_20220530_LulcHECRASv2_M50osM40is_fixedHDinput0407_CA_FLSfixedBC15_MWD_DepthContour50m/6109_TS.csv has a different shape: (50, 155)\n",
      "File ../../data/20230608/TimeSeries_Data_20230607/TimeSeries_FLSEast_20220530_LulcHECRASv2_M50osM40is_fixedHDinput0407_CA_FLSfixedBC15_PWP_DepthContour50m/2897_TS.csv has a different shape: (94, 155)\n",
      "File ../../data/20230608/TimeSeries_Data_20230607/TimeSeries_FLSEast_20220530_LulcHECRASv2_M50osM40is_fixedHDinput0407_CA_FLSfixedBC15_PWP_DepthContour50m/5379_TS.csv has a different shape: (58, 155)\n",
      "File ../../data/20230608/TimeSeries_Data_20230607/TimeSeries_FLSEast_20220530_LulcHECRASv2_M50osM40is_fixedHDinput0407_CA_FLSfixedBC15_PWP_DepthContour50m/6109_TS.csv has a different shape: (50, 155)\n",
      "File ../../data/20230608/TimeSeries_Data_20230607/TimeSeries_FLSEast_20220530_LulcHECRASv2_M50osM40is_fixedHDinput0407_CA_FLSfixedBC15_TWD_DepthContour50m/2897_TS.csv has a different shape: (94, 155)\n",
      "File ../../data/20230608/TimeSeries_Data_20230607/TimeSeries_FLSEast_20220530_LulcHECRASv2_M50osM40is_fixedHDinput0407_CA_FLSfixedBC15_TWD_DepthContour50m/5379_TS.csv has a different shape: (58, 155)\n",
      "File ../../data/20230608/TimeSeries_Data_20230607/TimeSeries_FLSEast_20220530_LulcHECRASv2_M50osM40is_fixedHDinput0407_CA_FLSfixedBC15_TWD_DepthContour50m/6109_TS.csv has a different shape: (50, 155)\n",
      "File ../../data/20230608/TimeSeries_Data_20230607/TimeSeries_FLSEast_20220530_LulcHECRASv2_M50osM40is_fixedHDinput0407_CA_FLSfixedBC15_WiD_DepthContour50m/2897_TS.csv has a different shape: (94, 155)\n",
      "File ../../data/20230608/TimeSeries_Data_20230607/TimeSeries_FLSEast_20220530_LulcHECRASv2_M50osM40is_fixedHDinput0407_CA_FLSfixedBC15_WiD_DepthContour50m/5379_TS.csv has a different shape: (58, 155)\n",
      "File ../../data/20230608/TimeSeries_Data_20230607/TimeSeries_FLSEast_20220530_LulcHECRASv2_M50osM40is_fixedHDinput0407_CA_FLSfixedBC15_WiD_DepthContour50m/6109_TS.csv has a different shape: (50, 155)\n",
      "Shape (94, 155): 6 files\n",
      "Shape (98, 155): 1110 files\n",
      "Shape (58, 155): 6 files\n",
      "Shape (50, 155): 6 files\n",
      "--------------------\n",
      "the code read track file in the same order (ascending track number) which is \n",
      "\n",
      "['472_TS.csv', '502_TS.csv', '698_TS.csv', '797_TS.csv', '852_TS.csv', '1122_TS.csv', '1211_TS.csv', '1216_TS.csv', '1264_TS.csv', '1268_TS.csv', '1294_TS.csv', '1371_TS.csv', '1390_TS.csv', '1397_TS.csv', '1426_TS.csv', '1445_TS.csv', '1466_TS.csv', '1469_TS.csv', '1487_TS.csv', '1488_TS.csv', '1558_TS.csv', '1663_TS.csv', '1666_TS.csv', '1714_TS.csv', '1717_TS.csv', '1756_TS.csv', '1767_TS.csv', '1841_TS.csv', '1889_TS.csv', '1902_TS.csv', '2009_TS.csv', '2022_TS.csv', '2133_TS.csv', '2163_TS.csv', '2171_TS.csv', '2276_TS.csv', '2317_TS.csv', '2352_TS.csv', '2374_TS.csv', '2399_TS.csv', '2570_TS.csv', '2623_TS.csv', '2637_TS.csv', '2809_TS.csv', '2854_TS.csv', '2897_TS.csv', '3047_TS.csv', '3231_TS.csv', '3257_TS.csv', '3439_TS.csv', '3453_TS.csv', '3503_TS.csv', '3532_TS.csv', '3570_TS.csv', '3581_TS.csv', '3640_TS.csv', '3737_TS.csv', '3799_TS.csv', '3872_TS.csv', '4046_TS.csv', '4047_TS.csv', '4142_TS.csv', '4184_TS.csv', '4556_TS.csv', '4593_TS.csv', '4647_TS.csv', '4688_TS.csv', '4701_TS.csv', '4778_TS.csv', '4845_TS.csv', '4936_TS.csv', '4960_TS.csv', '4966_TS.csv', '5081_TS.csv', '5207_TS.csv', '5256_TS.csv', '5378_TS.csv', '5379_TS.csv', '5383_TS.csv', '5434_TS.csv', '5550_TS.csv', '5791_TS.csv', '6022_TS.csv', '6109_TS.csv', '6369_TS.csv', '6420_TS.csv', '6557_TS.csv', '6641_TS.csv', '6669_TS.csv', '7066_TS.csv', '7174_TS.csv', '7189_TS.csv', '7222_TS.csv', '7274_TS.csv', '7459_TS.csv', '7610_TS.csv', '7779_TS.csv', '7979_TS.csv', '8005_TS.csv', '8068_TS.csv', '8147_TS.csv', '8253_TS.csv', '8254_TS.csv', '8359_TS.csv', '8365_TS.csv', '8405_TS.csv', '8640_TS.csv', '8647_TS.csv', '8870_TS.csv', '8948_TS.csv', '8976_TS.csv', '9660_TS.csv', '9779_TS.csv', '9841_TS.csv', '10085_TS.csv', '10086_TS.csv', '10096_TS.csv', '10101_TS.csv', '10468_TS.csv', '10920_TS.csv', '11119_TS.csv', '11133_TS.csv', '11363_TS.csv', '11728_TS.csv', '12309_TS.csv', '12310_TS.csv', '12382_TS.csv', '12389_TS.csv', '12704_TS.csv', '12722_TS.csv', '13201_TS.csv', '13260_TS.csv', '13391_TS.csv', '13503_TS.csv', '13559_TS.csv', '13808_TS.csv', '13839_TS.csv', '13879_TS.csv', '13936_TS.csv', '13991_TS.csv', '14083_TS.csv', '14175_TS.csv', '14200_TS.csv', '14262_TS.csv', '14367_TS.csv', '14822_TS.csv', '15246_TS.csv', '15445_TS.csv', '15506_TS.csv', '15560_TS.csv', '15678_TS.csv', '15719_TS.csv', '15748_TS.csv', '16288_TS.csv', '16330_TS.csv', '16332_TS.csv', '16370_TS.csv', '16412_TS.csv', '16486_TS.csv', '16544_TS.csv', '16592_TS.csv', '16613_TS.csv', '16763_TS.csv', '16852_TS.csv', '16914_TS.csv', '17033_TS.csv', '17424_TS.csv', '17852_TS.csv', '18049_TS.csv', '18122_TS.csv', '18713_TS.csv', '18835_TS.csv', '18872_TS.csv', '19270_TS.csv', '19296_TS.csv', '19318_TS.csv', '19322_TS.csv', '19390_TS.csv', '19457_TS.csv', '19464_TS.csv', '19498_TS.csv', '19589_TS.csv', '19750_TS.csv', '19924_TS.csv', '19954_TS.csv', '20020_TS.csv', '20054_TS.csv', '20601_TS.csv']\n"
     ]
    },
    {
     "name": "stdout",
     "output_type": "stream",
     "text": [
      "DepthContour25m \n",
      "\n",
      "Error: Not all .csv files have the same shape.\n",
      "File ../../data/20230608/TimeSeries_Data_20230607/TimeSeries_FLSEast_20220530_LulcHECRASv2_M50osM40is_fixedHDinput0407_CA_FLSfixedBC15_TWD_DepthContour25m/2897_TS.csv has a different shape: (94, 155)\n",
      "File ../../data/20230608/TimeSeries_Data_20230607/TimeSeries_FLSEast_20220530_LulcHECRASv2_M50osM40is_fixedHDinput0407_CA_FLSfixedBC15_TWD_DepthContour25m/5379_TS.csv has a different shape: (58, 155)\n",
      "File ../../data/20230608/TimeSeries_Data_20230607/TimeSeries_FLSEast_20220530_LulcHECRASv2_M50osM40is_fixedHDinput0407_CA_FLSfixedBC15_TWD_DepthContour25m/6109_TS.csv has a different shape: (50, 155)\n",
      "File ../../data/20230608/TimeSeries_Data_20230607/TimeSeries_FLSEast_20220530_LulcHECRASv2_M50osM40is_fixedHDinput0407_CA_FLSfixedBC15_WiD_DepthContour25m/2897_TS.csv has a different shape: (94, 155)\n",
      "File ../../data/20230608/TimeSeries_Data_20230607/TimeSeries_FLSEast_20220530_LulcHECRASv2_M50osM40is_fixedHDinput0407_CA_FLSfixedBC15_WiD_DepthContour25m/5379_TS.csv has a different shape: (58, 155)\n",
      "File ../../data/20230608/TimeSeries_Data_20230607/TimeSeries_FLSEast_20220530_LulcHECRASv2_M50osM40is_fixedHDinput0407_CA_FLSfixedBC15_WiD_DepthContour25m/6109_TS.csv has a different shape: (50, 155)\n",
      "File ../../data/20230608/TimeSeries_Data_20230607/TimeSeries_FLSEast_20220530_LulcHECRASv2_M50osM40is_fixedHDinput0407_CA_FLSfixedBC15_MWD_DepthContour25m/2897_TS.csv has a different shape: (94, 155)\n",
      "File ../../data/20230608/TimeSeries_Data_20230607/TimeSeries_FLSEast_20220530_LulcHECRASv2_M50osM40is_fixedHDinput0407_CA_FLSfixedBC15_MWD_DepthContour25m/5379_TS.csv has a different shape: (58, 155)\n",
      "File ../../data/20230608/TimeSeries_Data_20230607/TimeSeries_FLSEast_20220530_LulcHECRASv2_M50osM40is_fixedHDinput0407_CA_FLSfixedBC15_MWD_DepthContour25m/6109_TS.csv has a different shape: (50, 155)\n",
      "File ../../data/20230608/TimeSeries_Data_20230607/TimeSeries_FLSEast_20220530_LulcHECRASv2_M50osM40is_fixedHDinput0407_CA_FLSfixedBC15_PWP_DepthContour25m/2897_TS.csv has a different shape: (94, 155)\n",
      "File ../../data/20230608/TimeSeries_Data_20230607/TimeSeries_FLSEast_20220530_LulcHECRASv2_M50osM40is_fixedHDinput0407_CA_FLSfixedBC15_PWP_DepthContour25m/5379_TS.csv has a different shape: (58, 155)\n",
      "File ../../data/20230608/TimeSeries_Data_20230607/TimeSeries_FLSEast_20220530_LulcHECRASv2_M50osM40is_fixedHDinput0407_CA_FLSfixedBC15_PWP_DepthContour25m/6109_TS.csv has a different shape: (50, 155)\n",
      "File ../../data/20230608/TimeSeries_Data_20230607/TimeSeries_FLSEast_20220530_LulcHECRASv2_M50osM40is_fixedHDinput0407_CA_FLSfixedBC15_WiS_DepthContour25m/2897_TS.csv has a different shape: (94, 155)\n",
      "File ../../data/20230608/TimeSeries_Data_20230607/TimeSeries_FLSEast_20220530_LulcHECRASv2_M50osM40is_fixedHDinput0407_CA_FLSfixedBC15_WiS_DepthContour25m/5379_TS.csv has a different shape: (58, 155)\n",
      "File ../../data/20230608/TimeSeries_Data_20230607/TimeSeries_FLSEast_20220530_LulcHECRASv2_M50osM40is_fixedHDinput0407_CA_FLSfixedBC15_WiS_DepthContour25m/6109_TS.csv has a different shape: (50, 155)\n",
      "File ../../data/20230608/TimeSeries_Data_20230607/TimeSeries_FLSEast_20220530_LulcHECRASv2_M50osM40is_fixedHDinput0407_CA_FLSfixedBC15_SWH_DepthContour25m/2897_TS.csv has a different shape: (94, 155)\n",
      "File ../../data/20230608/TimeSeries_Data_20230607/TimeSeries_FLSEast_20220530_LulcHECRASv2_M50osM40is_fixedHDinput0407_CA_FLSfixedBC15_SWH_DepthContour25m/5379_TS.csv has a different shape: (58, 155)\n",
      "File ../../data/20230608/TimeSeries_Data_20230607/TimeSeries_FLSEast_20220530_LulcHECRASv2_M50osM40is_fixedHDinput0407_CA_FLSfixedBC15_SWH_DepthContour25m/6109_TS.csv has a different shape: (50, 155)\n",
      "Shape (94, 155): 6 files\n",
      "Shape (98, 155): 1110 files\n",
      "Shape (58, 155): 6 files\n",
      "Shape (50, 155): 6 files\n",
      "--------------------\n",
      "the code read track file in the same order (ascending track number) which is \n",
      "\n",
      "['472_TS.csv', '502_TS.csv', '698_TS.csv', '797_TS.csv', '852_TS.csv', '1122_TS.csv', '1211_TS.csv', '1216_TS.csv', '1264_TS.csv', '1268_TS.csv', '1294_TS.csv', '1371_TS.csv', '1390_TS.csv', '1397_TS.csv', '1426_TS.csv', '1445_TS.csv', '1466_TS.csv', '1469_TS.csv', '1487_TS.csv', '1488_TS.csv', '1558_TS.csv', '1663_TS.csv', '1666_TS.csv', '1714_TS.csv', '1717_TS.csv', '1756_TS.csv', '1767_TS.csv', '1841_TS.csv', '1889_TS.csv', '1902_TS.csv', '2009_TS.csv', '2022_TS.csv', '2133_TS.csv', '2163_TS.csv', '2171_TS.csv', '2276_TS.csv', '2317_TS.csv', '2352_TS.csv', '2374_TS.csv', '2399_TS.csv', '2570_TS.csv', '2623_TS.csv', '2637_TS.csv', '2809_TS.csv', '2854_TS.csv', '2897_TS.csv', '3047_TS.csv', '3231_TS.csv', '3257_TS.csv', '3439_TS.csv', '3453_TS.csv', '3503_TS.csv', '3532_TS.csv', '3570_TS.csv', '3581_TS.csv', '3640_TS.csv', '3737_TS.csv', '3799_TS.csv', '3872_TS.csv', '4046_TS.csv', '4047_TS.csv', '4142_TS.csv', '4184_TS.csv', '4556_TS.csv', '4593_TS.csv', '4647_TS.csv', '4688_TS.csv', '4701_TS.csv', '4778_TS.csv', '4845_TS.csv', '4936_TS.csv', '4960_TS.csv', '4966_TS.csv', '5081_TS.csv', '5207_TS.csv', '5256_TS.csv', '5378_TS.csv', '5379_TS.csv', '5383_TS.csv', '5434_TS.csv', '5550_TS.csv', '5791_TS.csv', '6022_TS.csv', '6109_TS.csv', '6369_TS.csv', '6420_TS.csv', '6557_TS.csv', '6641_TS.csv', '6669_TS.csv', '7066_TS.csv', '7174_TS.csv', '7189_TS.csv', '7222_TS.csv', '7274_TS.csv', '7459_TS.csv', '7610_TS.csv', '7779_TS.csv', '7979_TS.csv', '8005_TS.csv', '8068_TS.csv', '8147_TS.csv', '8253_TS.csv', '8254_TS.csv', '8359_TS.csv', '8365_TS.csv', '8405_TS.csv', '8640_TS.csv', '8647_TS.csv', '8870_TS.csv', '8948_TS.csv', '8976_TS.csv', '9660_TS.csv', '9779_TS.csv', '9841_TS.csv', '10085_TS.csv', '10086_TS.csv', '10096_TS.csv', '10101_TS.csv', '10468_TS.csv', '10920_TS.csv', '11119_TS.csv', '11133_TS.csv', '11363_TS.csv', '11728_TS.csv', '12309_TS.csv', '12310_TS.csv', '12382_TS.csv', '12389_TS.csv', '12704_TS.csv', '12722_TS.csv', '13201_TS.csv', '13260_TS.csv', '13391_TS.csv', '13503_TS.csv', '13559_TS.csv', '13808_TS.csv', '13839_TS.csv', '13879_TS.csv', '13936_TS.csv', '13991_TS.csv', '14083_TS.csv', '14175_TS.csv', '14200_TS.csv', '14262_TS.csv', '14367_TS.csv', '14822_TS.csv', '15246_TS.csv', '15445_TS.csv', '15506_TS.csv', '15560_TS.csv', '15678_TS.csv', '15719_TS.csv', '15748_TS.csv', '16288_TS.csv', '16330_TS.csv', '16332_TS.csv', '16370_TS.csv', '16412_TS.csv', '16486_TS.csv', '16544_TS.csv', '16592_TS.csv', '16613_TS.csv', '16763_TS.csv', '16852_TS.csv', '16914_TS.csv', '17033_TS.csv', '17424_TS.csv', '17852_TS.csv', '18049_TS.csv', '18122_TS.csv', '18713_TS.csv', '18835_TS.csv', '18872_TS.csv', '19270_TS.csv', '19296_TS.csv', '19318_TS.csv', '19322_TS.csv', '19390_TS.csv', '19457_TS.csv', '19464_TS.csv', '19498_TS.csv', '19589_TS.csv', '19750_TS.csv', '19924_TS.csv', '19954_TS.csv', '20020_TS.csv', '20054_TS.csv', '20601_TS.csv']\n"
     ]
    }
   ],
   "source": [
    "contours = ['Coastline0p01','DepthContour50m','DepthContour25m']\n",
    "for contour in contours:\n",
    "    print(contour,'\\n')\n",
    "    time_dim,space_dim,track_dim = checkdim(contour)\n",
    "    read_save(contour,f'../../data/20230608/{contour}.npy',track_dim, time_dim, space_dim)"
   ]
  },
  {
   "cell_type": "markdown",
   "id": "8531af98",
   "metadata": {},
   "source": [
    "Tracks are the same. But for time dimention of the parameters,  \n",
    "track 2897: 93 timestamps;   \n",
    "track 6109: 50 timestamps;   \n",
    "track 5379: 58 timestamps.   \n",
    "For all the other tracks: 98 timestamps."
   ]
  },
  {
   "cell_type": "code",
   "execution_count": null,
   "id": "c2726727",
   "metadata": {},
   "outputs": [],
   "source": []
  },
  {
   "cell_type": "code",
   "execution_count": 3,
   "id": "8c954da5",
   "metadata": {
    "ExecuteTime": {
     "end_time": "2023-08-16T13:57:04.294062Z",
     "start_time": "2023-08-16T13:57:04.259221Z"
    }
   },
   "outputs": [
    {
     "name": "stdout",
     "output_type": "stream",
     "text": [
      "--------------------\n"
     ]
    }
   ],
   "source": [
    "order = track_order('Coastline0p01')"
   ]
  },
  {
   "cell_type": "code",
   "execution_count": 4,
   "id": "f96c5811",
   "metadata": {
    "ExecuteTime": {
     "end_time": "2023-08-16T13:57:06.231754Z",
     "start_time": "2023-08-16T13:57:06.228039Z"
    }
   },
   "outputs": [
    {
     "name": "stdout",
     "output_type": "stream",
     "text": [
      "45 83 77\n"
     ]
    }
   ],
   "source": [
    "# print the index of wrong dimention tracks for further computing\n",
    "print(order.index('2897_TS.csv'),order.index('6109_TS.csv'),order.index('5379_TS.csv'))"
   ]
  },
  {
   "cell_type": "code",
   "execution_count": null,
   "id": "a4d077af",
   "metadata": {},
   "outputs": [],
   "source": []
  }
 ],
 "metadata": {
  "hide_input": false,
  "kernelspec": {
   "display_name": "Python 3 (ipykernel)",
   "language": "python",
   "name": "python3"
  },
  "language_info": {
   "codemirror_mode": {
    "name": "ipython",
    "version": 3
   },
   "file_extension": ".py",
   "mimetype": "text/x-python",
   "name": "python",
   "nbconvert_exporter": "python",
   "pygments_lexer": "ipython3",
   "version": "3.10.8"
  },
  "toc": {
   "base_numbering": 1,
   "nav_menu": {},
   "number_sections": true,
   "sideBar": true,
   "skip_h1_title": false,
   "title_cell": "Table of Contents",
   "title_sidebar": "Contents",
   "toc_cell": false,
   "toc_position": {},
   "toc_section_display": true,
   "toc_window_display": false
  },
  "varInspector": {
   "cols": {
    "lenName": 16,
    "lenType": 16,
    "lenVar": 40
   },
   "kernels_config": {
    "python": {
     "delete_cmd_postfix": "",
     "delete_cmd_prefix": "del ",
     "library": "var_list.py",
     "varRefreshCmd": "print(var_dic_list())"
    },
    "r": {
     "delete_cmd_postfix": ") ",
     "delete_cmd_prefix": "rm(",
     "library": "var_list.r",
     "varRefreshCmd": "cat(var_dic_list()) "
    }
   },
   "types_to_exclude": [
    "module",
    "function",
    "builtin_function_or_method",
    "instance",
    "_Feature"
   ],
   "window_display": false
  }
 },
 "nbformat": 4,
 "nbformat_minor": 5
}
