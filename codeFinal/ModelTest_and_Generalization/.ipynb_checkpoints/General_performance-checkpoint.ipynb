{
 "cells": [
  {
   "cell_type": "code",
   "execution_count": null,
   "metadata": {},
   "outputs": [],
   "source": [
    "# Name: Sitong Mu; Github username: edsml-sm1122"
   ]
  },
  {
   "cell_type": "markdown",
   "metadata": {
    "id": "QV2BAmCazexe"
   },
   "source": [
    "The file test the trained MLP and LSTM in folder 'Building models' on all the data.   \n",
    "Also, the last cell test the LSTM for the 20% unseen tracks data."
   ]
  },
  {
   "cell_type": "code",
   "execution_count": null,
   "metadata": {
    "id": "zImr_qlKRt9H"
   },
   "outputs": [],
   "source": [
    "import numpy as np\n",
    "import pandas as pd\n",
    "import pickle\n",
    "from pathlib import Path\n",
    "import datetime, time\n",
    "import matplotlib.pyplot as plt\n",
    "%matplotlib inline\n",
    "\n",
    "import torch\n",
    "import torch.nn as nn\n",
    "from torch.utils.data import TensorDataset, DataLoader, Dataset\n",
    "from tqdm import tqdm\n",
    "from sklearn.metrics import mean_squared_error as mse\n",
    "from sklearn.model_selection import train_test_split\n",
    "from livelossplot import PlotLosses\n",
    "from pycm import *\n",
    "from sklearn.metrics import accuracy_score\n",
    "from sklearn.model_selection import StratifiedShuffleSplit\n",
    "from torchsummary import summary"
   ]
  },
  {
   "cell_type": "code",
   "execution_count": null,
   "metadata": {
    "id": "SYSCAl1K7QCk"
   },
   "outputs": [],
   "source": [
    "from google.colab import drive\n",
    "drive.mount('/content/drive')"
   ]
  },
  {
   "cell_type": "code",
   "execution_count": null,
   "metadata": {
    "id": "coXpox2ocCg4"
   },
   "outputs": [],
   "source": [
    "# to import utilitis\n",
    "import sys\n",
    "sys.path.insert(0,'/content/drive/MyDrive/IRP/codefinal')\n",
    "from utilities import convert_deg_to_sin_cos,normalize,MLPDataset,simpleFFN,mlptrain,mlpvalidate,generate_random_numbers"
   ]
  },
  {
   "cell_type": "code",
   "execution_count": null,
   "metadata": {
    "colab": {
     "base_uri": "https://localhost:8080/"
    },
    "executionInfo": {
     "elapsed": 4,
     "status": "ok",
     "timestamp": 1693353693852,
     "user": {
      "displayName": "Colin Mu",
      "userId": "08899030729969115413"
     },
     "user_tz": -60
    },
    "id": "mN6zlMlA79cU",
    "outputId": "9f679dcf-a1f9-4427-c233-be716149de66"
   },
   "outputs": [
    {
     "name": "stdout",
     "output_type": "stream",
     "text": [
      "Cuda installed! Running on GPU!\n"
     ]
    }
   ],
   "source": [
    "device = 'cpu'\n",
    "if torch.cuda.device_count() > 0 and torch.cuda.is_available():\n",
    "    print(\"Cuda installed! Running on GPU!\")\n",
    "    device = 'cuda'\n",
    "else:\n",
    "    print(\"No GPU available!\")"
   ]
  },
  {
   "cell_type": "code",
   "execution_count": null,
   "metadata": {
    "colab": {
     "base_uri": "https://localhost:8080/"
    },
    "executionInfo": {
     "elapsed": 4817,
     "status": "ok",
     "timestamp": 1693353703061,
     "user": {
      "displayName": "Colin Mu",
      "userId": "08899030729969115413"
     },
     "user_tz": -60
    },
    "id": "EelJz2Do4Ebx",
    "outputId": "6645bf78-948b-4dfc-9570-dc289e180785"
   },
   "outputs": [
    {
     "name": "stdout",
     "output_type": "stream",
     "text": [
      "Before reshaping: (185, 98, 155, 6)\n",
      "Before reshaping: (185, 98, 145, 6)\n",
      "(185, 97, 145)\n",
      "After reshaping: (17945, 155, 6)\n",
      "(17945, 155, 8)\n",
      "(17945, 1240)\n"
     ]
    }
   ],
   "source": [
    "#prepare the data\n",
    "m25 = np.load('/content/drive/MyDrive/IRP/data/structured/DepthContour25m.npy')\n",
    "m25 = np.delete(m25, (45,83,77),axis=0)\n",
    "print(f\"Before reshaping: {np.shape(m25)}\")\n",
    "\n",
    "\n",
    "m0 = np.load('/content/drive/MyDrive/IRP/data/structured/Coastline0p01.npy')\n",
    "m0 = np.delete(m0, (45,83,77),axis=0)\n",
    "print(f\"Before reshaping: {np.shape(m0)}\")\n",
    "\n",
    "# for each trach, each parameter, the first timestep data is just the index of the stations\n",
    "m25 = m25[:,1:,:,:]\n",
    "m0 = m0[:,1:,:,:]\n",
    "\n",
    "#tar is SWH at coastline\n",
    "tar = m0[:,:,:,2]\n",
    "print(tar.shape)\n",
    "\n",
    "tar[np.isnan(tar)] = 0\n",
    "tar_rs = np.reshape(tar, (np.shape(tar)[0]*np.shape(tar)[1],np.shape(tar)[2]))\n",
    "\n",
    "feature25m = np.reshape(m25, (np.shape(m25)[0]*np.shape(m25)[1],np.shape(m25)[2],np.shape(m25)[3]))\n",
    "print(f\"After reshaping: {feature25m.shape}\")\n",
    "feature25m = convert_deg_to_sin_cos(feature25m)\n",
    "print(feature25m.shape)\n",
    "\n",
    "#further reshape\n",
    "feature25m = feature25m.reshape(feature25m.shape[0],feature25m.shape[1]*feature25m.shape[2])\n",
    "print(feature25m.shape)\n",
    "\n",
    "mean25,std25,feature25m = normalize(feature25m)\n",
    "\n"
   ]
  },
  {
   "cell_type": "code",
   "execution_count": null,
   "metadata": {
    "id": "OO7gJy5Mo7RP"
   },
   "outputs": [],
   "source": []
  },
  {
   "cell_type": "code",
   "execution_count": null,
   "metadata": {
    "colab": {
     "base_uri": "https://localhost:8080/"
    },
    "executionInfo": {
     "elapsed": 10976,
     "status": "ok",
     "timestamp": 1693176078376,
     "user": {
      "displayName": "Colin Mu",
      "userId": "08899030729969115413"
     },
     "user_tz": -60
    },
    "id": "MhQUA-HzPJu3",
    "outputId": "dc3075ce-2657-4b86-ba29-a7e63b95342f"
   },
   "outputs": [
    {
     "data": {
      "text/plain": [
       "{'Bias': -0.0022535980850514185,\n",
       " 'RMSE': 0.036833776821499895,\n",
       " 'Scatter Index': 0.22309196082752314,\n",
       " 'Correlation Coefficient': 0.9958883818307639,\n",
       " 'Coefficient of Efficiency': 0.9915870544306082,\n",
       " 'Index of Agreement': 0.9978556244334832,\n",
       " 'MAE': 0.019833476474851237}"
      ]
     },
     "execution_count": 13,
     "metadata": {},
     "output_type": "execute_result"
    }
   ],
   "source": [
    "#test on lstm, model prediction is from a sequence length of 8 to the next one.\n",
    "lstm = torch.load('/content/drive/MyDrive/IRP/model/LSTM25m_structured.npy')\n",
    "data = MyDataset(feature25m,tar_rs,sequence_length=9)\n",
    "dataloader = DataLoader(data, batch_size=len(data), shuffle=False)\n",
    "allfeature, alltar = next(iter(dataloader))\n",
    "allres = lstm(allfeature.to(device))\n",
    "\n",
    "alltar = alltar[:,-1,:].cpu().detach().numpy().flatten()\n",
    "allres = allres[:,-1,:].cpu().detach().numpy().flatten()\n",
    "\n",
    "calculate_metrics(alltar, allres)"
   ]
  },
  {
   "cell_type": "code",
   "execution_count": null,
   "metadata": {
    "id": "JaenD65Yk_h9"
   },
   "outputs": [],
   "source": []
  },
  {
   "cell_type": "code",
   "execution_count": null,
   "metadata": {
    "colab": {
     "base_uri": "https://localhost:8080/"
    },
    "executionInfo": {
     "elapsed": 1714,
     "status": "ok",
     "timestamp": 1693176097189,
     "user": {
      "displayName": "Colin Mu",
      "userId": "08899030729969115413"
     },
     "user_tz": -60
    },
    "id": "eH3XGuevSdZI",
    "outputId": "76f49176-6138-40a3-ab6b-ce97a7ef9e68"
   },
   "outputs": [
    {
     "data": {
      "text/plain": [
       "{'Bias': -0.00283972562254786,\n",
       " 'RMSE': 0.026744819191328133,\n",
       " 'Scatter Index': 0.16963800980323387,\n",
       " 'Correlation Coefficient': 0.9976648499609193,\n",
       " 'Coefficient of Efficiency': 0.9952812841038714,\n",
       " 'Index of Agreement': 0.9988172166400493,\n",
       " 'MAE': 0.011501265629603265}"
      ]
     },
     "execution_count": 14,
     "metadata": {},
     "output_type": "execute_result"
    }
   ],
   "source": [
    "# test the mlp\n",
    "mlp = torch.load('/content/drive/MyDrive/IRP/model/MLP25m3.npy')\n",
    "\n",
    "res = mlp(torch.tensor(feature25m).float().to(device))\n",
    "res = res.cpu().detach().numpy()\n",
    "\n",
    "res = res.flatten()\n",
    "tar = tar_rs.flatten()\n",
    "\n",
    "calculate_metrics(tar, res)"
   ]
  },
  {
   "cell_type": "code",
   "execution_count": null,
   "metadata": {
    "colab": {
     "base_uri": "https://localhost:8080/"
    },
    "executionInfo": {
     "elapsed": 981,
     "status": "ok",
     "timestamp": 1693176850705,
     "user": {
      "displayName": "Colin Mu",
      "userId": "08899030729969115413"
     },
     "user_tz": -60
    },
    "id": "9uJdgGYPKOgw",
    "outputId": "5e2d2397-6d7f-4c0f-9ace-adea4ce8ddb3"
   },
   "outputs": [
    {
     "data": {
      "text/plain": [
       "{'Bias': -0.0033361478404443762,\n",
       " 'RMSE': 0.03180298774257002,\n",
       " 'Scatter Index': 0.1844140832036965,\n",
       " 'Correlation Coefficient': 0.9972682560945663,\n",
       " 'Coefficient of Efficiency': 0.9941746375554316,\n",
       " 'Index of Agreement': 0.9985118583437433,\n",
       " 'MAE': 0.017831796780339873}"
      ]
     },
     "execution_count": 18,
     "metadata": {},
     "output_type": "execute_result"
    }
   ],
   "source": [
    "#LSTM on unseen tracks\n",
    "split = int((len(tar_rs)*0.8))\n",
    "X_test,y_test = feature25m[split:,:], tar_rs[split:,:]\n",
    "\n",
    "data = MyDataset(X_test,y_test,sequence_length=9)\n",
    "dataloader = DataLoader(data, batch_size=len(data), shuffle=False)\n",
    "allfeature, alltar = next(iter(dataloader))\n",
    "allres = lstm(allfeature.to(device))\n",
    "\n",
    "alltar = alltar[:,-1,:].cpu().detach().numpy().flatten()\n",
    "allres = allres[:,-1,:].cpu().detach().numpy().flatten()\n",
    "\n",
    "calculate_metrics(alltar, allres)"
   ]
  }
 ],
 "metadata": {
  "accelerator": "GPU",
  "colab": {
   "authorship_tag": "ABX9TyNFC2reZbUxnEAri1mYmueU",
   "machine_shape": "hm",
   "provenance": []
  },
  "hide_input": false,
  "kernelspec": {
   "display_name": "Python 3 (ipykernel)",
   "language": "python",
   "name": "python3"
  },
  "language_info": {
   "codemirror_mode": {
    "name": "ipython",
    "version": 3
   },
   "file_extension": ".py",
   "mimetype": "text/x-python",
   "name": "python",
   "nbconvert_exporter": "python",
   "pygments_lexer": "ipython3",
   "version": "3.10.8"
  },
  "toc": {
   "base_numbering": 1,
   "nav_menu": {},
   "number_sections": true,
   "sideBar": true,
   "skip_h1_title": false,
   "title_cell": "Table of Contents",
   "title_sidebar": "Contents",
   "toc_cell": false,
   "toc_position": {},
   "toc_section_display": true,
   "toc_window_display": false
  },
  "varInspector": {
   "cols": {
    "lenName": 16,
    "lenType": 16,
    "lenVar": 40
   },
   "kernels_config": {
    "python": {
     "delete_cmd_postfix": "",
     "delete_cmd_prefix": "del ",
     "library": "var_list.py",
     "varRefreshCmd": "print(var_dic_list())"
    },
    "r": {
     "delete_cmd_postfix": ") ",
     "delete_cmd_prefix": "rm(",
     "library": "var_list.r",
     "varRefreshCmd": "cat(var_dic_list()) "
    }
   },
   "types_to_exclude": [
    "module",
    "function",
    "builtin_function_or_method",
    "instance",
    "_Feature"
   ],
   "window_display": false
  }
 },
 "nbformat": 4,
 "nbformat_minor": 1
}
